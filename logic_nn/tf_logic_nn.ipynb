{
  "nbformat": 4,
  "nbformat_minor": 0,
  "metadata": {
    "colab": {
      "name": "tf_logic_nn.ipynb",
      "version": "0.3.2",
      "provenance": [],
      "collapsed_sections": []
    },
    "kernelspec": {
      "name": "python3",
      "display_name": "Python 3"
    }
  },
  "cells": [
    {
      "metadata": {
        "id": "SMHMpvOB0anY",
        "colab_type": "code",
        "colab": {
          "base_uri": "https://localhost:8080/",
          "height": 34
        },
        "outputId": "8b6df325-865a-4269-f0b2-37cb6f0b249e"
      },
      "cell_type": "code",
      "source": [
        "import tensorflow as tf\n",
        "import numpy as np\n",
        "import time \n",
        "import matplotlib.pyplot as plt\n",
        "\n",
        "# (x or y) and z\n",
        "\n",
        "X = np.array([#1#2#3\n",
        "              [0,0,0],\n",
        "              [0,0,1],\n",
        "              [0,1,0],\n",
        "              [0,1,1],\n",
        "              [1,0,0],\n",
        "              [1,0,1],\n",
        "              [1,1,0],\n",
        "              [1,1,1]])\n",
        "\n",
        "y = np.array([[1],[1],[1],[1],[1],[0],[0],[0]])\n",
        "\n",
        "err_log = [] # for plotting learning curve\n",
        "appended_point =[]\n",
        "\n",
        "b1 = tf.Variable(tf.random_normal([1,1])) #weights and biases \n",
        "b2 = tf.Variable(tf.random_normal([1,1]))\n",
        "W1= tf.Variable(tf.random_normal([4, 3]))\n",
        "W2= tf.Variable(tf.random_normal([1, 4])) \n",
        "\n",
        "X_in = tf.placeholder(tf.float32,[3,1]) #these for stotchastic training\n",
        "y_tar= tf.placeholder(tf.float32,[1,1])\n",
        "L1 = tf.nn.sigmoid(tf.add(tf.matmul(W1,X_in),b1))\n",
        "L2 = tf.nn.sigmoid(tf.add(tf.matmul(W2,L1),b2))\n",
        "\n",
        "X_in_vect = tf.placeholder(tf.float32,[3,8]) # these for calculating cost of whole dataset\n",
        "y_tar_vect = tf.placeholder(tf.float32,[1,8])\n",
        "L1_vect = tf.nn.sigmoid(tf.add(tf.matmul(W1,X_in_vect),b1))\n",
        "L2_vect = tf.nn.sigmoid(tf.add(tf.matmul(W2,L1_vect),b2))\n",
        "\n",
        "\n",
        "err = tf.nn.sigmoid_cross_entropy_with_logits(logits=L2, labels=y_tar)\n",
        "cost = tf.reduce_mean(tf.nn.sigmoid_cross_entropy_with_logits(logits=L2_vect, labels=y_tar_vect))\n",
        "\n",
        "train_gradient = tf.train.GradientDescentOptimizer(learning_rate=0.1).minimize(err) # you can use any of two\n",
        "train_adam = tf.train.AdamOptimizer(learning_rate=0.1).minimize(err)\n",
        "\n",
        "init_op = tf.global_variables_initializer()\n",
        "sess = tf.Session()\n",
        "\n",
        "sess.run(init_op)\n",
        "\n",
        "start = time.time()\n",
        "\n",
        "for i in range(1,12000):\n",
        "  sess.run(train_adam,feed_dict={X_in:X[i%8,:].reshape((3,1)),y_tar:y[i%8,:].reshape((1,1))})\n",
        "  if(i%7 == 0):\n",
        "    err_buff = sess.run(cost,feed_dict={X_in_vect:X.T,y_tar_vect: y.T})\n",
        "    err_log.append(err_buff)\n",
        "    appended_point.append(i)\n",
        "\n",
        "end = time.time()\n",
        "\n",
        "print(\"training time:\",end-start)\n",
        "\n"
      ],
      "execution_count": 50,
      "outputs": [
        {
          "output_type": "stream",
          "text": [
            "training time: 6.670518159866333\n"
          ],
          "name": "stdout"
        }
      ]
    },
    {
      "metadata": {
        "id": "TFjVo2nv-GBx",
        "colab_type": "code",
        "colab": {
          "base_uri": "https://localhost:8080/",
          "height": 173
        },
        "outputId": "3dccb7c4-29de-4cf0-d557-ac0b4327af73"
      },
      "cell_type": "code",
      "source": [
        "start = time.time()\n",
        "\n",
        "for i in range(0,8):\n",
        "  print(sess.run(L2,feed_dict={X_in:X[i,:].reshape((3,1))}))\n",
        "\n",
        "end = time.time()\n",
        "print(\"evaluation:\",end-start)\n"
      ],
      "execution_count": 48,
      "outputs": [
        {
          "output_type": "stream",
          "text": [
            "[[1.]]\n",
            "[[0.99999964]]\n",
            "[[0.99999964]]\n",
            "[[0.9999994]]\n",
            "[[0.999998]]\n",
            "[[2.3479613e-06]]\n",
            "[[2.4203089e-06]]\n",
            "[[2.0937705e-06]]\n",
            "evaluation: 0.07558631896972656\n"
          ],
          "name": "stdout"
        }
      ]
    },
    {
      "metadata": {
        "id": "0LTcP5ixnhFA",
        "colab_type": "code",
        "colab": {
          "base_uri": "https://localhost:8080/",
          "height": 347
        },
        "outputId": "fc9c0a82-260f-4a75-cf56-e7fd0b65c235"
      },
      "cell_type": "code",
      "source": [
        "plt.plot(appended_point,err_log)  \n",
        "plt.show()"
      ],
      "execution_count": 49,
      "outputs": [
        {
          "output_type": "display_data",
          "data": {
            "image/png": "[encoded data removed]",
            "text/plain": [
              "<matplotlib.figure.Figure at 0x7fb36e52a438>"
            ]
          },
          "metadata": {
            "tags": []
          }
        }
      ]
    }
  ]
}